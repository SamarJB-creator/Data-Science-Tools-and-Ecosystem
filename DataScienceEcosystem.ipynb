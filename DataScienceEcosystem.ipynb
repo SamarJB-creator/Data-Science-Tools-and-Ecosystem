{
 "cells": [
  {
   "cell_type": "markdown",
   "id": "9378e2d2-5990-4567-8b75-6688410df3b2",
   "metadata": {},
   "source": [
    "# Date Science Tools and Ecosystem"
   ]
  },
  {
   "cell_type": "markdown",
   "id": "c193c182-d663-4b2c-8a50-988eac1026e3",
   "metadata": {},
   "source": [
    "In this notebook, Data Science Tools and Ecosystem are summarised."
   ]
  },
  {
   "cell_type": "markdown",
   "id": "bce674ad-d260-49e4-b6ee-72d64be0ee16",
   "metadata": {},
   "source": [
    "**Objectives**\n",
    "* List of popular languages for Data Science\n",
    "* List of commonly used libraries for Data Science\n",
    "* List of open source tools in Data Science"
   ]
  },
  {
   "cell_type": "markdown",
   "id": "05cab8d8-3efa-4ac2-9ecc-03f062d3c7b9",
   "metadata": {},
   "source": [
    "Some of the popular languages that Data Scientists use are:\n",
    "1. Python\n",
    "2. R\n",
    "3. C++\n",
    "4. Java"
   ]
  },
  {
   "cell_type": "markdown",
   "id": "0720a176-ee0c-4b62-996a-5687748ec13f",
   "metadata": {},
   "source": [
    "Some of the commonly used libraries used by Data Scientists include:\n",
    "1. NumPy\n",
    "2. pandas\n",
    "3. TensorFlow\n",
    "4. PyTorch"
   ]
  },
  {
   "cell_type": "markdown",
   "id": "0bee0450-bf7d-4d36-9a3d-9528f7330ce0",
   "metadata": {},
   "source": [
    "| Data Science Tools |\n",
    "| ------ |\n",
    "| RStudio |\n",
    "| Jupyter Notebook |\n",
    "| Google Colab |"
   ]
  },
  {
   "cell_type": "markdown",
   "id": "b669c30f-2ec0-4ff6-8087-51d01b6887ab",
   "metadata": {},
   "source": [
    "### Below are a few examples of evaluating arithmetic expressions in Python"
   ]
  },
  {
   "cell_type": "code",
   "execution_count": 50,
   "id": "e90fe6bb-7b8e-4431-bcfc-95622084ad68",
   "metadata": {},
   "outputs": [
    {
     "data": {
      "text/plain": [
       "17"
      ]
     },
     "execution_count": 50,
     "metadata": {},
     "output_type": "execute_result"
    }
   ],
   "source": [
    "(3*4)+5\n",
    "# This a simple arithmetic expression to mutiply then add integers"
   ]
  },
  {
   "cell_type": "code",
   "execution_count": 58,
   "id": "8a1ea581-9a27-4b06-95e0-3fedb1ab50ec",
   "metadata": {},
   "outputs": [
    {
     "data": {
      "text/plain": [
       "3.3333333333333335"
      ]
     },
     "execution_count": 58,
     "metadata": {},
     "output_type": "execute_result"
    }
   ],
   "source": [
    "# 200 minutes into hours\n",
    "200/60\n",
    "# This will convert 200 minutes to hours by diving by 60"
   ]
  },
  {
   "cell_type": "markdown",
   "id": "dda4663d-3cb9-446b-ae7b-d19a2840c846",
   "metadata": {},
   "source": [
    "## Author\n",
    "Samar Jyoti Baishya"
   ]
  }
 ],
 "metadata": {
  "kernelspec": {
   "display_name": "Python 3 (ipykernel)",
   "language": "python",
   "name": "python3"
  },
  "language_info": {
   "codemirror_mode": {
    "name": "ipython",
    "version": 3
   },
   "file_extension": ".py",
   "mimetype": "text/x-python",
   "name": "python",
   "nbconvert_exporter": "python",
   "pygments_lexer": "ipython3",
   "version": "3.12.4"
  }
 },
 "nbformat": 4,
 "nbformat_minor": 5
}
